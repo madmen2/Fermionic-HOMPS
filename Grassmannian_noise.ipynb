{
 "cells": [
  {
   "cell_type": "code",
   "execution_count": 162,
   "metadata": {},
   "outputs": [],
   "source": [
    "import grassmanntn as tn\n",
    "import numpy as np"
   ]
  },
  {
   "cell_type": "code",
   "execution_count": 163,
   "metadata": {},
   "outputs": [],
   "source": [
    "#BCF for fermionic bath\n",
    "\n",
    "def alpha(tau,g,w):\n",
    "    assert(g.shape==w.shape)\n",
    "    assert(g.ndim ==1)\n",
    "    arg1 = np.multiply.outer(np.real(w,np.abs(tau)))\n",
    "    arg2 = np.multiply.outer(np.imag(w).tau)\n",
    "    return np.sum((np.abs(g[:,np.newaxis]))**2*np.exp(-arg1-1j*arg2),axis=0 )\n"
   ]
  },
  {
   "cell_type": "code",
   "execution_count": 164,
   "metadata": {},
   "outputs": [],
   "source": [
    "def compute_stochastic_expectation_value_nonlinear_fermions(psis, op):\n",
    "    N_steps = psis.shape[1]\n",
    "    result = np.empty(N_steps)\n",
    "    for i in range(N_steps):\n",
    "        num = np.sum(np.conj(psis[:, i, :].T)*(op@(-1*psis[:, i, :].T)), 0)\n",
    "        denom = np.sum(np.conj(psis[:, i, :])*(-1*psis[:, i, :]), 1)\n",
    "        result[i] = np.real_if_close(np.sum(num/denom)) / psis.shape[0]\n",
    "    return result"
   ]
  },
  {
   "cell_type": "code",
   "execution_count": 165,
   "metadata": {},
   "outputs": [],
   "source": [
    "#generate realization for grassmannian process\n",
    "def generate_grassmanian_numbers(N):\n",
    "    gb = {'grassmann_variables': []}\n",
    "\n",
    "    for i in range(N):\n",
    "        gv = tn.random(shape=(1, 1), statistics=(1, 1), tensor_type=tn.dense, dtype=float, encoder='canonical', format='matrix', skip_trimming=False)\n",
    "        gb['grassmann_variables'].append(gv[0,0])\n",
    "    return gb['grassmann_variables']\n",
    "\n"
   ]
  },
  {
   "cell_type": "code",
   "execution_count": 166,
   "metadata": {},
   "outputs": [],
   "source": [
    "def generate_grassman_noise(tau,g,w):\n",
    "    assert(g.shape==w.shape)\n",
    "    assert(g.ndim==1)\n",
    "    arg1 = np.multiply.outer(np.real(w),np.abs(tau))\n",
    "    arg2=np.multiply.outer(np.imag(w),tau)\n",
    "    n=len(g)\n",
    "    z=generate_grassmanian_numbers(n)\n",
    "    noise= -1j*np.sum(np.conj(g[:,np.newaxis])*np.exp(1j*(arg1+1j*arg2))*np.conj(z), axis=0 )\n",
    "    return noise\n"
   ]
  },
  {
   "cell_type": "code",
   "execution_count": 167,
   "metadata": {},
   "outputs": [
    {
     "data": {
      "text/plain": [
       "array([2.96618717e-35-1.32587116e-35j])"
      ]
     },
     "execution_count": 167,
     "metadata": {},
     "output_type": "execute_result"
    }
   ],
   "source": [
    "g = np.array([2])\n",
    "w = np.array([0.5+2j])\n",
    "duration = 40\n",
    "generate_grassman_noise(duration,g,w)"
   ]
  },
  {
   "cell_type": "code",
   "execution_count": null,
   "metadata": {},
   "outputs": [],
   "source": []
  },
  {
   "cell_type": "code",
   "execution_count": null,
   "metadata": {},
   "outputs": [],
   "source": []
  },
  {
   "cell_type": "code",
   "execution_count": null,
   "metadata": {},
   "outputs": [],
   "source": []
  }
 ],
 "metadata": {
  "kernelspec": {
   "display_name": "Python 3",
   "language": "python",
   "name": "python3"
  },
  "language_info": {
   "codemirror_mode": {
    "name": "ipython",
    "version": 3
   },
   "file_extension": ".py",
   "mimetype": "text/x-python",
   "name": "python",
   "nbconvert_exporter": "python",
   "pygments_lexer": "ipython3",
   "version": "3.10.5"
  }
 },
 "nbformat": 4,
 "nbformat_minor": 2
}
